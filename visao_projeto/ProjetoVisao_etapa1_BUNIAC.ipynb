{
 "cells": [
  {
   "cell_type": "markdown",
   "metadata": {},
   "source": [
    "# Transformações geométricas - Parte 1 do Projeto de Visão"
   ]
  },
  {
   "cell_type": "markdown",
   "metadata": {},
   "source": [
    "Vamos gerar uma imagem de entrada com algumas coordenadas conhecidas.  Desta seção você só vai precisar das coordenadas dos pontos na imagem de entrada e na imagem de saída"
   ]
  },
  {
   "cell_type": "code",
   "execution_count": 248,
   "metadata": {
    "collapsed": false
   },
   "outputs": [],
   "source": [
    "import warnings;\n",
    "with warnings.catch_warnings():\n",
    "    warnings.simplefilter(\"ignore\"); \n",
    "    import matplotlib.pyplot as plt\n",
    "\n",
    "from matplotlib import colors\n",
    "\n",
    "\n",
    "from sympy.solvers import solve\n",
    "from sympy import Symbol\n",
    "from sympy import Matrix, solve_linear_system\n",
    "from sympy.abc import a, b, x, y\n",
    "import cv2\n",
    "\n",
    "import numpy as np\n",
    "import pandas as pd\n",
    "from sympy import symbols\n",
    "from sympy.core.trace import Tr\n",
    "#from sympy.matrices.matrices import Matrix\n",
    "\n",
    "from IPython.core.display import display_pretty\n",
    "from sympy.printing.latex import *\n",
    "\n",
    "from sympy import init_printing; init_printing()\n",
    "from sympy.interactive import printing\n",
    "#printing.init_printing(use_latex=False) # Use this option if you don't have Latex Installed\n",
    "printing.init_printing(use_latex=True)\n",
    "#printing.init_printing(use_latex=mathjax)\n",
    "\n",
    "from IPython.display import display\n",
    "\n",
    "import sympy as sp\n",
    "import math\n",
    "\n",
    "%matplotlib inline\n",
    "\n",
    "\n",
    "\n",
    "sp_x = 30\n",
    "sp_y = 30\n",
    "x_blocks = 6\n",
    "y_blocks = 6"
   ]
  },
  {
   "cell_type": "code",
   "execution_count": 249,
   "metadata": {
    "collapsed": false
   },
   "outputs": [],
   "source": [
    "# Cria uma imagem RGB  em branco\n",
    "blank = 255*np.ones((sp_x * x_blocks,sp_y*y_blocks,3), np.uint8)"
   ]
  },
  {
   "cell_type": "code",
   "execution_count": 250,
   "metadata": {
    "collapsed": true
   },
   "outputs": [],
   "source": [
    "# Coordenadas de entrada de alguns pontos\n",
    "points = [[1,1],\n",
    "          [5,1],\n",
    "          [1,3],\n",
    "          [3,3],\n",
    "          [5,3],\n",
    "          [1,5],\n",
    "          [5,5]]"
   ]
  },
  {
   "cell_type": "code",
   "execution_count": 251,
   "metadata": {
    "collapsed": true
   },
   "outputs": [],
   "source": [
    "# Cores a usar para os pontos\n",
    "point_colors = ['r', 'g', 'b', 'c', 'm', 'y', 'k']"
   ]
  },
  {
   "cell_type": "markdown",
   "metadata": {},
   "source": [
    "## Coordenadas dos pontos na imagem de entrada\n",
    "\n",
    "Este loop imprime as coordenadas.\n",
    "\n",
    "As cores dos pontos servem para identificá-los"
   ]
  },
  {
   "cell_type": "code",
   "execution_count": 252,
   "metadata": {
    "collapsed": false
   },
   "outputs": [
    {
     "name": "stdout",
     "output_type": "stream",
     "text": [
      "Posição dos pontos: (x_entrada, y_entrada)\n",
      "((30, 30), [255, 0, 0])\n",
      "((150, 30), [0, 127, 0])\n",
      "((30, 90), [0, 0, 255])\n",
      "((90, 90), [0, 191, 191])\n",
      "((150, 90), [191, 0, 191])\n",
      "((30, 150), [191, 191, 0])\n",
      "((150, 150), [0, 0, 0])\n"
     ]
    }
   ],
   "source": [
    "sp_x = 30 # x spacing\n",
    "sp_y = 30 # y spacing\n",
    "point_size = 5\n",
    "print(\"Posição dos pontos: (x_entrada, y_entrada)\")\n",
    "\n",
    "for i in range(len(points)):\n",
    "    point_color = [int(255*canal) for canal in colors.colorConverter.colors[point_colors[i]]]\n",
    "    point_position = (sp_x*points[i][0], sp_y*points[i][1])\n",
    "    print(point_position, point_color)\n",
    "    cv2.circle(blank,point_position, point_size, point_color, -1)"
   ]
  },
  {
   "cell_type": "markdown",
   "metadata": {},
   "source": [
    "## Imagem de entrada"
   ]
  },
  {
   "cell_type": "code",
   "execution_count": 253,
   "metadata": {
    "collapsed": false
   },
   "outputs": [
    {
     "data": {
      "text/plain": [
       "<matplotlib.image.AxesImage at 0x1162d0a10>"
      ]
     },
     "execution_count": 253,
     "metadata": {},
     "output_type": "execute_result"
    },
    {
     "data": {
      "image/png": "[encoded data removed]",
      "text/plain": [
       "<matplotlib.figure.Figure at 0x11612d7d0>"
      ]
     },
     "metadata": {},
     "output_type": "display_data"
    }
   ],
   "source": [
    "plt.imshow(blank)"
   ]
  },
  {
   "cell_type": "markdown",
   "metadata": {},
   "source": [
    "Se precisar abrir a imagem fora deste *notebook*, use o arquivo `dots_pattern.png`\n"
   ]
  },
  {
   "cell_type": "code",
   "execution_count": 254,
   "metadata": {
    "collapsed": false
   },
   "outputs": [
    {
     "data": {
      "text/plain": [
       "True"
      ]
     },
     "execution_count": 254,
     "metadata": {},
     "output_type": "execute_result"
    }
   ],
   "source": [
    "cv2.imwrite(\"dots_pattern.png\", blank)"
   ]
  },
  {
   "cell_type": "markdown",
   "metadata": {},
   "source": [
    "## Padrão de saída\n",
    "\n",
    "Foi aplicada uma transformação à imagem de entrada, que gerou o seguinte padrão de saída:"
   ]
  },
  {
   "cell_type": "code",
   "execution_count": 255,
   "metadata": {
    "collapsed": false
   },
   "outputs": [],
   "source": [
    "saida = cv2.imread(\"patterns_transformed.png\")\n",
    "\n",
    "saida_rgb = cv2.cvtColor(saida, cv2.COLOR_BGR2RGB)"
   ]
  },
  {
   "cell_type": "code",
   "execution_count": 256,
   "metadata": {
    "collapsed": false
   },
   "outputs": [
    {
     "data": {
      "text/plain": [
       "<matplotlib.image.AxesImage at 0x1164e4f90>"
      ]
     },
     "execution_count": 256,
     "metadata": {},
     "output_type": "execute_result"
    },
    {
     "data": {
      "image/png": "[encoded data removed]",
      "text/plain": [
       "<matplotlib.figure.Figure at 0x1162eb850>"
      ]
     },
     "metadata": {},
     "output_type": "display_data"
    }
   ],
   "source": [
    "plt.imshow(saida_rgb)"
   ]
  },
  {
   "cell_type": "markdown",
   "metadata": {},
   "source": [
    "Sabe-se que a imagem de saída é igual a uma combinação de rotações em torno de um ponto arbitrário e  redimensionamentos (escala) da imagem de entrada. Para simplificar, assuma que o redimensionamento é igual nos eixos $x$ e $y$\n",
    "\n",
    "Cada ponto da imagem de saída está relacionado à sua posição na imagem de entrada pela seguinte transformação:\n",
    "\n",
    "$$\n",
    "\\begin{pmatrix}\n",
    "x_{saida} \\\\\n",
    "y_{saida} \\\\\n",
    "1\n",
    "\\end{pmatrix}\n",
    " = \n",
    "\\begin{pmatrix}\n",
    "   \\alpha &\\beta &(1-\\alpha \\cdot center.x - \\beta \\cdot center.y) \\\\\n",
    "   -\\beta & \\alpha & \\beta \\cdot center.x + (1 - \\alpha \\cdot center.y) \\\\ 0 & 0 & 1\n",
    "\\end{pmatrix} \\cdot \\begin{pmatrix} x_{entrada} \\\\ y_{entrada} \\\\ 1 \\end{pmatrix} \n",
    "$$\n",
    "\n",
    "Na equação acima:\n",
    "\n",
    "$\\alpha = escala \\cdot \\cos(\\theta)$ \n",
    "\n",
    "$\\beta = escala \\cdot \\sin(\\theta) $ \n",
    "\n",
    "$x_{entrada}$ é a posição $x$ de cada pixel na imagem de entrada\n",
    "\n",
    "$y_{entrada}$ é a posição $y$ de cada pixel na imagem de entrada\n",
    "\n",
    "$center$ é o centro de rotação\n",
    "\n",
    "$x_{saída}$ é a coordenada $x$ do pixel na imagem de saída\n",
    "\n",
    "$y_{saída}$ é a coordenada $y$ do pixel na imagem de saída\n",
    "\n",
    "\n",
    "Com translação:\n",
    "\n",
    "$$\n",
    "\\begin{pmatrix}\n",
    "x_{saida} \\\\\n",
    "y_{saida} \\\\\n",
    "1\n",
    "\\end{pmatrix}\n",
    " =\n",
    "\\begin{pmatrix}\n",
    "   \\alpha &\\beta &(1-\\alpha \\cdot center.x - \\beta \\cdot center.y) + t_x \\\\\n",
    "   -\\beta & \\alpha & \\beta \\cdot center.x + (1 - \\alpha \\cdot center.y) + t_y \\\\ 0 & 0 & 1\n",
    "\\end{pmatrix} \\cdot \\begin{pmatrix} x_{entrada} \\\\ y_{entrada} \\\\ 1 \\end{pmatrix}\n",
    "$$\n",
    "\n"
   ]
  },
  {
   "cell_type": "markdown",
   "metadata": {},
   "source": [
    "# Matrizes de transformação com rotação, translação e escala\n",
    "\n",
    "\n",
    "Uma matriz de translação por uma distância $ [ x_t   y_t ]$ em 2D é:\n",
    "\n",
    "$$\n",
    "T = \\begin{pmatrix} 1 & 0 & x_t \\\\\n",
    "0 & 1 & y_t \\\\\n",
    "0 & 0 & 1 \n",
    "\\end{pmatrix}\n",
    "$$\n",
    "\n",
    "Uma matriz de rotação por um ângulo $\\theta$ é:\n",
    "\n",
    "$$\n",
    "R = \\begin{pmatrix} \\cos(\\theta) & -\\sin(\\theta) & 0 \\\\\n",
    "\\sin(\\theta) & \\cos(\\theta) & 0 \\\\\n",
    "0 & 0 & 1 \n",
    "\\end{pmatrix}\n",
    "$$\n",
    "\n",
    "Uma matriz que aplica um fator de escala  $s$ igual nos eixos $x$ e $y$ é:\n",
    "\n",
    "\n",
    "$$\n",
    "S = \\begin{pmatrix} s & 0  & 0 \\\\\n",
    "0 & s & 0 \\\\\n",
    "0 & 0 & 1 \n",
    "\\end{pmatrix}\n",
    "$$\n",
    "\n",
    "\n",
    "Uma transformação genérica, composta de rotação, escala e transação (nesta ordem) é dada por:\n",
    "\n",
    "$$\n",
    "M = T \\cdot S \\cdot R\n",
    "$$\n",
    "\n",
    "Ou seja:\n",
    "$$\n",
    "M = \\begin{pmatrix} 1 & 0 & x_t \\\\\n",
    "0 & 1 & y_t \\\\\n",
    "0 & 0 & 1 \n",
    "\\end{pmatrix}\n",
    "\\cdot\n",
    "\\begin{pmatrix} \\cos(\\theta) & -\\sin(\\theta) & 0 \\\\\n",
    "\\sin(\\theta) & \\cos(\\theta) & 0 \\\\\n",
    "0 & 0 & 1 \n",
    "\\end{pmatrix}\n",
    "\\cdot\n",
    "\\begin{pmatrix} s & 0  & 0 \\\\\n",
    "0 & s & 0 \\\\\n",
    "0 & 0 & 1 \n",
    "\\end{pmatrix}\n",
    "$$\n",
    "\n",
    "Multiplicando as três matrizes, temos que uma transformação afim composta de rotação, escala e translação é:\n",
    "\n",
    "$$\n",
    "M = \\begin{pmatrix} s\\cdot\\cos(\\theta) & -s\\cdot\\sin(\\theta) & x_t \\\\\n",
    "-s\\cdot\\sin(\\theta) & -s\\cdot\\cos(\\theta) & y_t \\\\\n",
    "0 & 0 & 1 \n",
    "\\end{pmatrix}\n",
    "$$\n",
    "\n",
    "\n",
    "Desta forma, um ponto de entrada representado por $( x_{i}, y_{i} ) $ será transformado num ponto de saída $(x_{saida}, y_{saida})$ quando multiplicado pela matrix $M$\n",
    "\n",
    "\n",
    "$$\n",
    "\\begin{pmatrix}x_{saida} \\\\ y_{saida} \\end{pmatrix} = \\begin{pmatrix} s\\cdot\\cos(\\theta) & -s\\cdot\\sin(\\theta) & x_t \\\\\n",
    "-s\\cdot\\sin(\\theta) & -s\\cdot\\cos(\\theta) & y_t \\\\\n",
    "0 & 0 & 1 \n",
    "\\end{pmatrix} \\cdot \\begin{pmatrix} x_{i} \\\\ y_{i} \\end{pmatrix} \n",
    "$$\n",
    "\n",
    "Teremos, então:\n",
    "\n",
    "$$\n",
    "x_{saida} = x_{i} \\cdot s \\cdot \\cos(\\theta) - y_{i} \\cdot s \\cdot \\sin(\\theta) + x_t $$\n",
    "e \n",
    "$$ y_{saida} = - x_{i} \\cdot s \\cdot \\sin(\\theta) - y_{i} \\cdot s \\cdot \\cos(\\theta) + y_t\n",
    "$$\n",
    "\n",
    "Por simplicidade, ao estimar uma transformação, ajuda trabalhar com as seguintes relações:\n",
    "\n",
    "$\\alpha =  s \\cdot \\cos(\\theta)$\n",
    "\n",
    "e \n",
    "\n",
    "$\\beta = s \\cdot \\sin(\\theta) $\n",
    "\n",
    "E encarar a matriz da seguinte forma:\n",
    "\n",
    "\n",
    "$$\n",
    "\\begin{pmatrix}x_{saida} \\\\ y_{saida} \\end{pmatrix} = \\begin{pmatrix} \\alpha & -\\beta & x_t \\\\\n",
    "-\\beta & -\\alpha & y_t \\\\\n",
    "0 & 0 & 1 \n",
    "\\end{pmatrix} \\cdot \\begin{pmatrix} x_{i} \\\\ y_{i} \\end{pmatrix} \n",
    "$$\n",
    "\n"
   ]
  },
  {
   "cell_type": "markdown",
   "metadata": {},
   "source": [
    "# Atividade 1\n",
    "\n",
    "Responda (no IPython Notebook): \n",
    "\n",
    "1. Quantos graus de liberdade (variáveis) determinam a transformação acima?\n",
    "\n",
    "2. Supondo que a transformação aplicada para transformar a imagem de entrada na imagem do arquivo `patterns_transformed.png` é desconhecida, é possível descobrir qual é esta transformação? Como?\n",
    "\n",
    "3. Crie uma tabela para os 7 pontos de entrada fornecidos em que constem quais suas posições na imagem de entrada e depois quais suas posições após transformados, na imagem de saída.\n",
    "\n",
    "4. Considerando o número de variáveis da matriz de transformação fornecida, de quantas correspondências $p_{entrada} \\Rightarrow p_{saida}$ você precisa para descobrir qual é a matriz?\n",
    "\n",
    "5. Por que poderia ser útil usar **mais** correspondências do que a resposta que você deu no item anterior?\n",
    "\n",
    "6. Expanda a equação da transformação usando os pontos de entrada e saída de sua tabela até ter um sistema sobredeterminado. <font color=red> Reserve pelo menos 1 hora para esta atividade - trabalhoso </font>. Talvez você ache útil aprender a usar um *Computer Algebra System* para fazer isso, por exemplo o Sympy ou o Maxima.\n",
    "\n",
    "7. A partir do sistema sobredeterminado que você encontrou no item anterior, resolva e estime qual é a transformação que foi usada para converter a imagem de entrada na imagem de saída. Você pode usar o método de *Least Squares* que está presente no *Scipy* ou o *RANSAC* da OpenCV, por exemplo.\n",
    "\n",
    "8. Aplique a transformação à imagem de entrada e verifique se o resultado que obteve se assemelha à imagem de saída. A função da OpenCV que permite que você faça isso é a *cv2.warpAffine()* "
   ]
  },
  {
   "cell_type": "markdown",
   "metadata": {},
   "source": [
    "## Referências\n",
    "\n",
    "\n",
    "\n",
    "[Shapiro and Shepard. Computer Vision. Seção 11.2, Capítulo 11](https://courses.cs.washington.edu/courses/cse576/book/ch11.pdf)\n",
    "\n",
    "[http://docs.opencv.org/3.1.0/da/d6e/tutorial_py_geometric_transformations.html#gsc.tab=0](http://docs.opencv.org/3.1.0/da/d6e/tutorial_py_geometric_transformations.html#gsc.tab=0)\n",
    "\n"
   ]
  },
  {
   "cell_type": "markdown",
   "metadata": {
    "collapsed": true
   },
   "source": [
    "## RESPOSTAS:"
   ]
  },
  {
   "cell_type": "markdown",
   "metadata": {},
   "source": [
    "1. Quantos graus de liberdade (variáveis) determinam a transformação acima?"
   ]
  },
  {
   "cell_type": "markdown",
   "metadata": {
    "collapsed": true
   },
   "source": [
    "Temos quatro graus de liberdade que determinam a transformação acima. Estes graus de liberdade são 4 variavéis:x da translação, y da translação, theta, escala. (translação,rotação e escala)"
   ]
  },
  {
   "cell_type": "markdown",
   "metadata": {},
   "source": [
    "2. Supondo que a transformação aplicada para transformar a imagem de entrada na imagem do arquivo `patterns_transformed.png` é desconhecida, é possível descobrir qual é esta transformação? Como?"
   ]
  },
  {
   "cell_type": "markdown",
   "metadata": {
    "collapsed": true
   },
   "source": [
    "É possível descobrir qual é a transformação. Para descobrir, devemos inicialemnte escolher diversos pontos, em seguida montar um sistema sobredeterminado( obtendo mais equações do que icognitas e por final, através de um dos possiveis métodos(Método dos Mínimos Quadrados, RANSAC ou algum estimador do própio OpenCV, estimar os valores das incognitas da imagem original. "
   ]
  },
  {
   "cell_type": "markdown",
   "metadata": {},
   "source": [
    "3. Crie uma tabela para os 7 pontos de entrada fornecidos em que constem quais suas posições na imagem de entrada e depois quais suas posições após transformados, na imagem de saída."
   ]
  },
  {
   "cell_type": "code",
   "execution_count": 257,
   "metadata": {
    "collapsed": false
   },
   "outputs": [
    {
     "data": {
      "text/html": [
       "<div style=\"max-height:1000px;max-width:1500px;overflow:auto;\">\n",
       "<table border=\"1\" class=\"dataframe\">\n",
       "  <thead>\n",
       "    <tr style=\"text-align: right;\">\n",
       "      <th></th>\n",
       "      <th>Cor</th>\n",
       "      <th>X_entrada</th>\n",
       "      <th>X_saida</th>\n",
       "      <th>Y_entrada</th>\n",
       "      <th>Y_saida</th>\n",
       "    </tr>\n",
       "  </thead>\n",
       "  <tbody>\n",
       "    <tr>\n",
       "      <th>0</th>\n",
       "      <td>  AMARELO</td>\n",
       "      <td>  30</td>\n",
       "      <td>  92</td>\n",
       "      <td> 150</td>\n",
       "      <td> 206</td>\n",
       "    </tr>\n",
       "    <tr>\n",
       "      <th>1</th>\n",
       "      <td>     AZUL</td>\n",
       "      <td>  30</td>\n",
       "      <td> 114</td>\n",
       "      <td>  90</td>\n",
       "      <td> 150</td>\n",
       "    </tr>\n",
       "    <tr>\n",
       "      <th>2</th>\n",
       "      <td>    PRETO</td>\n",
       "      <td> 150</td>\n",
       "      <td> 202</td>\n",
       "      <td> 150</td>\n",
       "      <td> 252</td>\n",
       "    </tr>\n",
       "    <tr>\n",
       "      <th>3</th>\n",
       "      <td>     ROXO</td>\n",
       "      <td> 150</td>\n",
       "      <td> 226</td>\n",
       "      <td>  90</td>\n",
       "      <td> 196</td>\n",
       "    </tr>\n",
       "    <tr>\n",
       "      <th>4</th>\n",
       "      <td> TURQUESA</td>\n",
       "      <td>  90</td>\n",
       "      <td> 170</td>\n",
       "      <td>  90</td>\n",
       "      <td> 174</td>\n",
       "    </tr>\n",
       "    <tr>\n",
       "      <th>5</th>\n",
       "      <td>    VERDE</td>\n",
       "      <td> 150</td>\n",
       "      <td> 248</td>\n",
       "      <td>  30</td>\n",
       "      <td> 141</td>\n",
       "    </tr>\n",
       "    <tr>\n",
       "      <th>6</th>\n",
       "      <td> VERMELHO</td>\n",
       "      <td>  30</td>\n",
       "      <td> 137</td>\n",
       "      <td>  30</td>\n",
       "      <td>  95</td>\n",
       "    </tr>\n",
       "  </tbody>\n",
       "</table>\n",
       "<p>7 rows × 5 columns</p>\n",
       "</div>"
      ],
      "text/plain": [
       "        Cor X_entrada X_saida Y_entrada Y_saida\n",
       "0   AMARELO        30      92       150     206\n",
       "1      AZUL        30     114        90     150\n",
       "2     PRETO       150     202       150     252\n",
       "3      ROXO       150     226        90     196\n",
       "4  TURQUESA        90     170        90     174\n",
       "5     VERDE       150     248        30     141\n",
       "6  VERMELHO        30     137        30      95\n",
       "\n",
       "[7 rows x 5 columns]"
      ]
     },
     "execution_count": 257,
     "metadata": {},
     "output_type": "execute_result"
    }
   ],
   "source": [
    "tabela = pd.DataFrame({\"Cor\":[\"AMARELO\",\"AZUL\",\"PRETO\",\"ROXO\",\"TURQUESA\",\"VERDE\",\"VERMELHO\"], \"X_entrada\":[\"30\",\"30\",\"150\",\"150\",\"90\",\"150\",\"30\"], \"Y_entrada\":[\"150\",\"90\",\"150\",\"90\",\"90\",\"30\",\"30\"],\"X_saida\":[\"92\",\"114\",\"202\",\"226\",\"170\",\"248\",\"137\"], \"Y_saida\":[\"206\",\"150\",\"252\",\"196\",\"174\",\"141\",\"95\"]})\n",
    "tabela\n",
    "\n",
    "#((30, 150), [191, 191, 0])#amarelo\n",
    "#((30, 90), [0, 0, 255])#azul\n",
    "#((150, 150), [0, 0, 0])#preto\n",
    "#((150, 90), [191, 0, 191])#roxo\n",
    "#((90, 90), [0, 191, 191])#turquesa\n",
    "#((150, 30), [0, 127, 0])#verde\n",
    "#((30, 30), [255, 0, 0])#vermelho\n",
    "\n"
   ]
  },
  {
   "cell_type": "markdown",
   "metadata": {},
   "source": [
    "4. Considerando o número de variáveis da matriz de transformação fornecida, de quantas correspondências $p_{entrada} \\Rightarrow p_{saida}$ você precisa para descobrir qual é a matriz?"
   ]
  },
  {
   "cell_type": "markdown",
   "metadata": {
    "collapsed": true
   },
   "source": [
    "Para descobrir qual é a matriz precisamos de de duas correspondências $p_{entrada} \\Rightarrow p_{saida}$. Cada ponto fornece dois valores, portanto dois pontos nos fornecerão quatro valores, o suficientes para descobrirmos os valores das incognitas α, β, x(translação), y(translação).\n",
    "\n",
    "$ α= escala* cos \\theta $\n",
    "\n",
    "$β= escala* sin \\theta$"
   ]
  },
  {
   "cell_type": "markdown",
   "metadata": {},
   "source": [
    "5. Por que poderia ser útil usar **mais** correspondências do que a resposta que você deu no item anterior?\n"
   ]
  },
  {
   "cell_type": "markdown",
   "metadata": {
    "collapsed": true
   },
   "source": [
    "Os pixels dos pontos foram localizados de forma manual no photoshop. Como a análise foi\"de olho\"podem existir erros de imprecisão. Desta forma, ao utilizarmos mais pontos,  a precisão da matriz transformação será maior. "
   ]
  },
  {
   "cell_type": "markdown",
   "metadata": {},
   "source": [
    "6. Expanda a equação da transformação usando os pontos de entrada e saída de sua tabela até ter um sistema sobredeterminado. <font color=red> Reserve pelo menos 1 hora para esta atividade - trabalhoso </font>. Talvez você ache útil aprender a usar um *Computer Algebra System* para fazer isso, por exemplo o Sympy ou o Maxima.\n"
   ]
  },
  {
   "cell_type": "code",
   "execution_count": 258,
   "metadata": {
    "collapsed": false
   },
   "outputs": [],
   "source": [
    "alpha, beta, t_x, t_y =  sp.symbols(\"alpha, beta, t_x, t_y\")\n",
    "def make_column_point(x, y):\n",
    "    return sp.Matrix([[x],[y],[1]])\n",
    "\n",
    "ponto_entra_amarelo = make_column_point(30, 150)\n",
    "ponto_entra_azul = make_column_point(30, 90)\n",
    "ponto_entra_preto = make_column_point(150, 150)\n",
    "ponto_entra_roxo = make_column_point(150, 90)\n",
    "ponto_entra_turquesa = make_column_point(90, 90)\n",
    "ponto_entra_verde = make_column_point(150, 150)\n",
    "ponto_entra_vermelho = make_column_point(30, 30)\n",
    "\n",
    "pontos_entrada = [ponto_entra_amarelo, ponto_entra_azul, ponto_entra_preto,ponto_entra_roxo, ponto_entra_turquesa, ponto_entra_verde, ponto_entra_vermelho]\n",
    "\n",
    "ponto_sai_amarelo = make_column_point(92, 206)\n",
    "ponto_sai_azul = make_column_point(114, 150)\n",
    "ponto_sai_preto = make_column_point(202, 252)\n",
    "ponto_sai_roxo = make_column_point(226, 196)\n",
    "ponto_sai_turquesa = make_column_point(170, 174)\n",
    "ponto_sai_verde = make_column_point(248, 141)\n",
    "ponto_sai_vermelho = make_column_point(137, 95)\n",
    "\n",
    "pontos_saida = [ponto_sai_amarelo, ponto_sai_azul, ponto_sai_preto,ponto_sai_roxo, ponto_sai_turquesa, ponto_sai_verde, ponto_sai_vermelho]\n",
    "\n",
    "\n",
    "#Matriz= np.matrix ([[1],[2],[3]])\n",
    "#Matriz"
   ]
  },
  {
   "cell_type": "markdown",
   "metadata": {},
   "source": [
    "#### Pontos de Entrada"
   ]
  },
  {
   "cell_type": "code",
   "execution_count": 259,
   "metadata": {
    "collapsed": false
   },
   "outputs": [
    {
     "data": {
      "image/png": "[encoded data removed]",
      "text/latex": [
       "$$\\left [ \\left[\\begin{matrix}30\\\\150\\\\1\\end{matrix}\\right], \\quad \\left[\\begin{matrix}30\\\\90\\\\1\\end{matrix}\\right], \\quad \\left[\\begin{matrix}150\\\\150\\\\1\\end{matrix}\\right], \\quad \\left[\\begin{matrix}150\\\\90\\\\1\\end{matrix}\\right], \\quad \\left[\\begin{matrix}90\\\\90\\\\1\\end{matrix}\\right], \\quad \\left[\\begin{matrix}150\\\\150\\\\1\\end{matrix}\\right], \\quad \\left[\\begin{matrix}30\\\\30\\\\1\\end{matrix}\\right]\\right ]$$"
      ],
      "text/plain": [
       "⎡⎡30 ⎤, ⎡30⎤, ⎡150⎤, ⎡150⎤, ⎡90⎤, ⎡150⎤, ⎡30⎤⎤\n",
       "⎢⎢   ⎥  ⎢  ⎥  ⎢   ⎥  ⎢   ⎥  ⎢  ⎥  ⎢   ⎥  ⎢  ⎥⎥\n",
       "⎢⎢150⎥  ⎢90⎥  ⎢150⎥  ⎢90 ⎥  ⎢90⎥  ⎢150⎥  ⎢30⎥⎥\n",
       "⎢⎢   ⎥  ⎢  ⎥  ⎢   ⎥  ⎢   ⎥  ⎢  ⎥  ⎢   ⎥  ⎢  ⎥⎥\n",
       "⎣⎣ 1 ⎦  ⎣1 ⎦  ⎣ 1 ⎦  ⎣ 1 ⎦  ⎣1 ⎦  ⎣ 1 ⎦  ⎣1 ⎦⎦"
      ]
     },
     "execution_count": 259,
     "metadata": {},
     "output_type": "execute_result"
    }
   ],
   "source": [
    "pontos_entrada"
   ]
  },
  {
   "cell_type": "markdown",
   "metadata": {},
   "source": [
    "#### Pontos de Saída "
   ]
  },
  {
   "cell_type": "code",
   "execution_count": 260,
   "metadata": {
    "collapsed": false
   },
   "outputs": [
    {
     "data": {
      "image/png": "[encoded data removed]",
      "text/latex": [
       "$$\\left [ \\left[\\begin{matrix}92\\\\206\\\\1\\end{matrix}\\right], \\quad \\left[\\begin{matrix}114\\\\150\\\\1\\end{matrix}\\right], \\quad \\left[\\begin{matrix}202\\\\252\\\\1\\end{matrix}\\right], \\quad \\left[\\begin{matrix}226\\\\196\\\\1\\end{matrix}\\right], \\quad \\left[\\begin{matrix}170\\\\174\\\\1\\end{matrix}\\right], \\quad \\left[\\begin{matrix}248\\\\141\\\\1\\end{matrix}\\right], \\quad \\left[\\begin{matrix}137\\\\95\\\\1\\end{matrix}\\right]\\right ]$$"
      ],
      "text/plain": [
       "⎡⎡92 ⎤, ⎡114⎤, ⎡202⎤, ⎡226⎤, ⎡170⎤, ⎡248⎤, ⎡137⎤⎤\n",
       "⎢⎢   ⎥  ⎢   ⎥  ⎢   ⎥  ⎢   ⎥  ⎢   ⎥  ⎢   ⎥  ⎢   ⎥⎥\n",
       "⎢⎢206⎥  ⎢150⎥  ⎢252⎥  ⎢196⎥  ⎢174⎥  ⎢141⎥  ⎢95 ⎥⎥\n",
       "⎢⎢   ⎥  ⎢   ⎥  ⎢   ⎥  ⎢   ⎥  ⎢   ⎥  ⎢   ⎥  ⎢   ⎥⎥\n",
       "⎣⎣ 1 ⎦  ⎣ 1 ⎦  ⎣ 1 ⎦  ⎣ 1 ⎦  ⎣ 1 ⎦  ⎣ 1 ⎦  ⎣ 1 ⎦⎦"
      ]
     },
     "execution_count": 260,
     "metadata": {},
     "output_type": "execute_result"
    }
   ],
   "source": [
    "pontos_saida"
   ]
  },
  {
   "cell_type": "code",
   "execution_count": 261,
   "metadata": {
    "collapsed": true
   },
   "outputs": [],
   "source": [
    "M = sp.Matrix([[alpha, -beta, t_x],[-beta, -alpha, t_y],[0, 0, 1]])"
   ]
  },
  {
   "cell_type": "code",
   "execution_count": 262,
   "metadata": {
    "collapsed": false
   },
   "outputs": [
    {
     "data": {
      "image/png": "[encoded data removed]",
      "text/latex": [
       "$$\\left[\\begin{matrix}\\alpha & - \\beta & t_{x}\\\\- \\beta & - \\alpha & t_{y}\\\\0 & 0 & 1\\end{matrix}\\right]$$"
      ],
      "text/plain": [
       "⎡α   -β  tₓ ⎤\n",
       "⎢           ⎥\n",
       "⎢-β  -α  t_y⎥\n",
       "⎢           ⎥\n",
       "⎣0   0    1 ⎦"
      ]
     },
     "execution_count": 262,
     "metadata": {},
     "output_type": "execute_result"
    }
   ],
   "source": [
    "M"
   ]
  },
  {
   "cell_type": "code",
   "execution_count": 263,
   "metadata": {
    "collapsed": false
   },
   "outputs": [
    {
     "name": "stdout",
     "output_type": "stream",
     "text": [
      "Equaçōes do sistema sobredeterminado (todas as equaçōes são iguais a 0):\n"
     ]
    },
    {
     "data": {
      "image/png": "[encoded data removed]",
      "text/latex": [
       "$$30 \\alpha - 150 \\beta + t_{x} - 92$$"
      ],
      "text/plain": [
       "30⋅α - 150⋅β + tₓ - 92"
      ]
     },
     "metadata": {},
     "output_type": "display_data"
    },
    {
     "data": {
      "image/png": "[encoded data removed]",
      "text/latex": [
       "$$- 150 \\alpha - 30 \\beta + t_{y} - 206$$"
      ],
      "text/plain": [
       "-150⋅α - 30⋅β + t_y - 206"
      ]
     },
     "metadata": {},
     "output_type": "display_data"
    },
    {
     "data": {
      "image/png": "[encoded data removed]",
      "text/latex": [
       "$$30 \\alpha - 90 \\beta + t_{x} - 114$$"
      ],
      "text/plain": [
       "30⋅α - 90⋅β + tₓ - 114"
      ]
     },
     "metadata": {},
     "output_type": "display_data"
    },
    {
     "data": {
      "image/png": "[encoded data removed]",
      "text/latex": [
       "$$- 90 \\alpha - 30 \\beta + t_{y} - 150$$"
      ],
      "text/plain": [
       "-90⋅α - 30⋅β + t_y - 150"
      ]
     },
     "metadata": {},
     "output_type": "display_data"
    },
    {
     "data": {
      "image/png": "[encoded data removed]",
      "text/latex": [
       "$$150 \\alpha - 150 \\beta + t_{x} - 202$$"
      ],
      "text/plain": [
       "150⋅α - 150⋅β + tₓ - 202"
      ]
     },
     "metadata": {},
     "output_type": "display_data"
    },
    {
     "data": {
      "image/png": "[encoded data removed]",
      "text/latex": [
       "$$- 150 \\alpha - 150 \\beta + t_{y} - 252$$"
      ],
      "text/plain": [
       "-150⋅α - 150⋅β + t_y - 252"
      ]
     },
     "metadata": {},
     "output_type": "display_data"
    },
    {
     "data": {
      "image/png": "[encoded data removed]",
      "text/latex": [
       "$$150 \\alpha - 90 \\beta + t_{x} - 226$$"
      ],
      "text/plain": [
       "150⋅α - 90⋅β + tₓ - 226"
      ]
     },
     "metadata": {},
     "output_type": "display_data"
    },
    {
     "data": {
      "image/png": "[encoded data removed]",
      "text/latex": [
       "$$- 90 \\alpha - 150 \\beta + t_{y} - 196$$"
      ],
      "text/plain": [
       "-90⋅α - 150⋅β + t_y - 196"
      ]
     },
     "metadata": {},
     "output_type": "display_data"
    },
    {
     "data": {
      "image/png": "[encoded data removed]",
      "text/latex": [
       "$$90 \\alpha - 90 \\beta + t_{x} - 170$$"
      ],
      "text/plain": [
       "90⋅α - 90⋅β + tₓ - 170"
      ]
     },
     "metadata": {},
     "output_type": "display_data"
    },
    {
     "data": {
      "image/png": "[encoded data removed]",
      "text/latex": [
       "$$- 90 \\alpha - 90 \\beta + t_{y} - 174$$"
      ],
      "text/plain": [
       "-90⋅α - 90⋅β + t_y - 174"
      ]
     },
     "metadata": {},
     "output_type": "display_data"
    },
    {
     "data": {
      "image/png": "[encoded data removed]",
      "text/latex": [
       "$$150 \\alpha - 150 \\beta + t_{x} - 248$$"
      ],
      "text/plain": [
       "150⋅α - 150⋅β + tₓ - 248"
      ]
     },
     "metadata": {},
     "output_type": "display_data"
    },
    {
     "data": {
      "image/png": "[encoded data removed]",
      "text/latex": [
       "$$- 150 \\alpha - 150 \\beta + t_{y} - 141$$"
      ],
      "text/plain": [
       "-150⋅α - 150⋅β + t_y - 141"
      ]
     },
     "metadata": {},
     "output_type": "display_data"
    },
    {
     "data": {
      "image/png": "[encoded data removed]",
      "text/latex": [
       "$$30 \\alpha - 30 \\beta + t_{x} - 137$$"
      ],
      "text/plain": [
       "30⋅α - 30⋅β + tₓ - 137"
      ]
     },
     "metadata": {},
     "output_type": "display_data"
    },
    {
     "data": {
      "image/png": "[encoded data removed]",
      "text/latex": [
       "$$- 30 \\alpha - 30 \\beta + t_{y} - 95$$"
      ],
      "text/plain": [
       "-30⋅α - 30⋅β + t_y - 95"
      ]
     },
     "metadata": {},
     "output_type": "display_data"
    }
   ],
   "source": [
    "equations = []\n",
    "system_eq = [] \n",
    "left_side = [] \n",
    "\n",
    "for p in pontos_entrada:\n",
    "    produto = M*p\n",
    "    equations.append(produto)\n",
    "\n",
    "print(\"Equaçōes do sistema sobredeterminado (todas as equaçōes são iguais a 0):\")\n",
    "    \n",
    "        \n",
    "for i in range(len(equations)):\n",
    "    for j in range(len(equations[i][:-1])):# -1 excludes the homogeneous coordinate (extra 1 at the end)\n",
    "        eq = equations[i][j]-pontos_saida[i][j]\n",
    "        left_side.append(equations[i][j])\n",
    "        system_eq.append(eq)\n",
    "\n",
    "for equation in system_eq:\n",
    "    display(equation)"
   ]
  },
  {
   "cell_type": "markdown",
   "metadata": {},
   "source": [
    "7. A partir do sistema sobredeterminado que você encontrou no item anterior, resolva e estime qual é a transformação que foi usada para converter a imagem de entrada na imagem de saída. Você pode usar o método de *Least Squares* que está presente no *Scipy* ou o *RANSAC* da OpenCV, por exemplo."
   ]
  },
  {
   "cell_type": "code",
   "execution_count": 264,
   "metadata": {
    "collapsed": false
   },
   "outputs": [
    {
     "name": "stdout",
     "output_type": "stream",
     "text": [
      "('Theta em Graus =', -48.32864999171816)\n",
      "('Escala =', 0.47667276972251177)\n",
      "('Transla\\xc3\\xa7\\xc3\\xa3o x =', 102.61363636363933)\n",
      "('Transla\\xc3\\xa7\\xc3\\xa3o y =', 174.05303030303253)\n",
      "('Matriz Solucionada =', (array([   0.31691919,   -0.35606061,  102.61363636,  174.0530303 ]), array([ 28401.89393939]), 4, array([ 413.5282464 ,  413.5282464 ,    1.17874005,    1.17874005])))\n"
     ]
    }
   ],
   "source": [
    "matriz_alpha= np.array([[30,-30,1,0],[-30,-30,0,1],[30,-90,1,0],[-90,-30,0,1],[30,-150,1,0],\n",
    "    [-150,-30,0,1],[90,-90,1,0],[-90,-90,0,1],[150,-150,1,0],[-150,-150,0,1],[150,-90,1,0],\n",
    "    [-90,-150,0,1],[150,-150,1,0],[-150,-150,0,1]])\n",
    "\n",
    "matriz_beta = np.array([135,95,115,150,90,205,170,170,250,140,225,195,200,250])\n",
    "\n",
    "solucao_matriz = np.linalg.lstsq(matriz_alpha, matriz_beta)\n",
    "\n",
    "alpha= (solucao_matriz[0][0])\n",
    "matriz_beta = (solucao_matriz[0][1])\n",
    "tx = (solucao_matriz[0][2])\n",
    "ty = (solucao_matriz[0][3])\n",
    "\n",
    "theta_radius = math.atan(matriz_beta/alpha) #em radiano\n",
    "theta_graus = math.degrees(theta_radius) #em graus \n",
    "\n",
    "escala = (alpha/math.cos(theta_radius))\n",
    "print(\"Theta em Graus =\" , theta_graus)\n",
    "print(\"Escala =\" ,escala)\n",
    "print(\"Translação x =\" ,tx)\n",
    "print(\"Translação y =\" ,ty)\n",
    "print(\"Matriz Solucionada =\" ,solucao_matriz)"
   ]
  },
  {
   "cell_type": "code",
   "execution_count": 265,
   "metadata": {
    "collapsed": false
   },
   "outputs": [
    {
     "name": "stdout",
     "output_type": "stream",
     "text": [
      "('Theta em Graus =', -19.98310652189998)\n",
      "('Escala =', -0.975391659226635)\n",
      "('Transla\\xc3\\xa7\\xc3\\xa3o x =', 172)\n",
      "('Transla\\xc3\\xa7\\xc3\\xa3o y =', 77)\n",
      "('Matriz Solucionada =', (array([   0.31691919,   -0.35606061,  102.61363636,  174.0530303 ]), array([ 28401.89393939]), 4, array([ 413.5282464 ,  413.5282464 ,    1.17874005,    1.17874005])))\n"
     ]
    }
   ],
   "source": [
    "S= Matrix((\n",
    "    (30,-30,1,0,135),\n",
    "    (-30,-30,0,1,95),\n",
    "    (30,-90,1,0,115),\n",
    "    (-90,-30,0,1,150),\n",
    "    ))\n",
    "\n",
    "\n",
    "               \n",
    "resolucao = solve_linear_system(S, alpha, matriz_beta, x, y)\n",
    "\n",
    "\n",
    "theta_radius = math.atan(resolucao[matriz_beta]/resolucao[alpha]) #em radiano\n",
    "theta_graus = math.degrees(theta_radius) #em graus \n",
    "tx_m2= 345/2\n",
    "ty_m2= 155/2\n",
    "\n",
    "escala = (resolucao[alpha]/math.cos(theta_radius))\n",
    "\n",
    "print(\"Theta em Graus =\" , theta_graus)\n",
    "print(\"Escala =\" ,escala)\n",
    "print(\"Translação x =\" ,tx_m2)\n",
    "print(\"Translação y =\" ,ty_m2)\n",
    "print(\"Matriz Solucionada =\" ,solucao_matriz)\n",
    "\n"
   ]
  },
  {
   "cell_type": "code",
   "execution_count": 266,
   "metadata": {
    "collapsed": false
   },
   "outputs": [
    {
     "name": "stdout",
     "output_type": "stream",
     "text": [
      "('Theta em Graus =', 22.109448343751673)\n",
      "('Escala =', 1.43915966993088)\n",
      "('Transla\\xc3\\xa7\\xc3\\xa3o x =', 131)\n",
      "('Transla\\xc3\\xa7\\xc3\\xa3o y =', 421)\n",
      "('Matriz Solucionada =', (array([   0.31691919,   -0.35606061,  102.61363636,  174.0530303 ]), array([ 28401.89393939]), 4, array([ 413.5282464 ,  413.5282464 ,    1.17874005,    1.17874005])))\n"
     ]
    }
   ],
   "source": [
    "S2= Matrix((\n",
    "    (30,-150,1,0,90),\n",
    "    (-150,-30,0,1,205),\n",
    "    (150,-150,1,0,250),\n",
    "    (-150,-150,0,1,140),\n",
    "    ))\n",
    "\n",
    "resolucao2 = solve_linear_system(S2, alpha, matriz_beta, x, y)\n",
    "\n",
    "theta_radius = math.atan(resolucao2[matriz_beta]/resolucao2[alpha]) \n",
    "theta_graus = math.degrees(theta_radius)  \n",
    "\n",
    "tx_m3= 525/4\n",
    "ty_m3= 1685/4\n",
    "escala = (resolucao2[alpha]/math.cos(theta_radius))\n",
    "\n",
    "\n",
    "\n",
    "print(\"Theta em Graus =\" , theta_graus)\n",
    "print(\"Escala =\" ,escala)\n",
    "print(\"Translação x =\" ,tx_m3)\n",
    "print(\"Translação y =\" ,ty_m3)\n",
    "print(\"Matriz Solucionada =\" ,solucao_matriz)\n",
    "\n"
   ]
  },
  {
   "cell_type": "code",
   "execution_count": 267,
   "metadata": {
    "collapsed": false
   },
   "outputs": [
    {
     "name": "stdout",
     "output_type": "stream",
     "text": [
      "('Theta em Graus =', -24.443954780416536)\n",
      "('Escala =', 1.00692049779955)\n",
      "('Transla\\xc3\\xa7\\xc3\\xa3o x =', 131)\n",
      "('Transla\\xc3\\xa7\\xc3\\xa3o y =', 421)\n",
      "('Matriz Solucionada =', (array([   0.31691919,   -0.35606061,  102.61363636,  174.0530303 ]), array([ 28401.89393939]), 4, array([ 413.5282464 ,  413.5282464 ,    1.17874005,    1.17874005])))\n"
     ]
    }
   ],
   "source": [
    "S3= Matrix((\n",
    "    (90,-90,1,0,170),\n",
    "    (-90,-90,0,1,170),\n",
    "    (150,-150,1,0,250),\n",
    "    (-150,-150,0,1,140),\n",
    "    ))\n",
    "\n",
    "resolucao3 = solve_linear_system(S3, alpha, matriz_beta, x, y)\n",
    "\n",
    "theta_radius = math.atan(resolucao3[matriz_beta]/resolucao3[alpha]) #em radiano\n",
    "theta_graus = math.degrees(theta_radius) #em graus \n",
    "tx_m4=resolucao3[x]\n",
    "ty_m4=resolucao3[y]\n",
    "escala = (resolucao3[alpha]/math.cos(theta_radius))\n",
    "\n",
    "print(\"Theta em Graus =\" , theta_graus)\n",
    "print(\"Escala =\" ,escala)\n",
    "print(\"Translação x =\" ,tx_m3)\n",
    "print(\"Translação y =\" ,ty_m3)\n",
    "print(\"Matriz Solucionada =\" ,solucao_matriz)\n"
   ]
  },
  {
   "cell_type": "code",
   "execution_count": null,
   "metadata": {
    "collapsed": true
   },
   "outputs": [],
   "source": []
  },
  {
   "cell_type": "code",
   "execution_count": null,
   "metadata": {
    "collapsed": true
   },
   "outputs": [],
   "source": []
  },
  {
   "cell_type": "markdown",
   "metadata": {},
   "source": [
    "8. Aplique a transformação à imagem de entrada e verifique se o resultado que obteve se assemelha à imagem de saída. A função da OpenCV que permite que você faça isso é a *cv2.warpAffine()*"
   ]
  },
  {
   "cell_type": "code",
   "execution_count": 268,
   "metadata": {
    "collapsed": false
   },
   "outputs": [],
   "source": [
    "import cv2\n",
    "import numpy as np\n",
    "\n",
    "import matplotlib.pyplot as plt\n",
    "\n",
    "%matplotlib inline\n",
    "\n",
    "img = blank\n",
    "rows,cols = img.shape[:2]\n",
    "\n",
    "# Source points\n",
    "srcTri = np.array([(0,0),(cols-1,0),(0,rows-1)], np.float32)\n",
    "\n",
    "# Corresponding Destination Points. Remember, both sets are of float32 type\n",
    "dstTri = np.array([(cols*0.0,rows*0.33),(cols*0.85,rows*0.25), (cols*0.15,rows*0.7)],np.float32)\n",
    "\n",
    "# Affine Transformation\n",
    "warp_mat = cv2.getAffineTransform(srcTri,dstTri)   # Generating affine transform matrix of size 2x3\n",
    "dst = cv2.warpAffine(img,warp_mat,(cols,rows))     # Now transform the image, notice dst_size=(cols,rows), not (rows,cols)\n",
    "\n",
    "# Image Rotation\n",
    "center = (cols/2,rows/2)                           # Center point about which image is transformed\n",
    "angle = -50.0                                      # Angle, remember negative angle denotes clockwise rotation\n",
    "scale = 0.6                                        # Isotropic scale factor.\n",
    "\n",
    "rot_mat = cv2.getRotationMatrix2D(center,angle,scale) # Rotation matrix generated\n",
    "dst_rot = cv2.warpAffine(dst,rot_mat,(cols,rows))     # Now transform the image wrt rotation matrix"
   ]
  },
  {
   "cell_type": "code",
   "execution_count": 269,
   "metadata": {
    "collapsed": false
   },
   "outputs": [
    {
     "data": {
      "text/plain": [
       "<matplotlib.image.AxesImage at 0x1166e5b10>"
      ]
     },
     "execution_count": 269,
     "metadata": {},
     "output_type": "execute_result"
    },
    {
     "data": {
      "image/png": "[encoded data removed]",
      "text/plain": [
       "<matplotlib.figure.Figure at 0x116102ad0>"
      ]
     },
     "metadata": {},
     "output_type": "display_data"
    }
   ],
   "source": [
    "plt.imshow(dst)"
   ]
  },
  {
   "cell_type": "code",
   "execution_count": 270,
   "metadata": {
    "collapsed": true
   },
   "outputs": [],
   "source": [
    "warp_mat1 = np.matrix([[alpha,-matriz_beta,tx],[-matriz_beta,-alpha,ty]])   # Generating affine transform matrix of size 2x3\n",
    "dst1 = cv2.warpAffine(img,warp_mat,(cols,rows))     # Now transform the image, notice dst_size=(cols,rows), not (rows,cols)"
   ]
  },
  {
   "cell_type": "code",
   "execution_count": 271,
   "metadata": {
    "collapsed": false
   },
   "outputs": [
    {
     "data": {
      "text/plain": [
       "<matplotlib.image.AxesImage at 0x116845310>"
      ]
     },
     "execution_count": 271,
     "metadata": {},
     "output_type": "execute_result"
    },
    {
     "data": {
      "image/png": "[encoded data removed]",
      "text/plain": [
       "<matplotlib.figure.Figure at 0x11662c550>"
      ]
     },
     "metadata": {},
     "output_type": "display_data"
    }
   ],
   "source": [
    "plt.imshow(dst1)"
   ]
  },
  {
   "cell_type": "code",
   "execution_count": 272,
   "metadata": {
    "collapsed": false
   },
   "outputs": [],
   "source": [
    "warp_mat1 = np.array([[float(resolucao3[alpha]), float(-resolucao[matriz_beta]),float(resolucao3[x])], [float(-resolucao[matriz_beta]),float(-resolucao3[alpha]),float(resolucao3[y])]])   # Generating affine transform matrix of size 2x3\n",
    "dst2 = cv2.warpAffine(img,warp_mat1,(cols,rows))"
   ]
  },
  {
   "cell_type": "code",
   "execution_count": 273,
   "metadata": {
    "collapsed": false
   },
   "outputs": [
    {
     "data": {
      "text/plain": [
       "<matplotlib.image.AxesImage at 0x11691d950>"
      ]
     },
     "execution_count": 273,
     "metadata": {},
     "output_type": "execute_result"
    },
    {
     "data": {
      "image/png": "[encoded data removed]",
      "text/plain": [
       "<matplotlib.figure.Figure at 0x1167166d0>"
      ]
     },
     "metadata": {},
     "output_type": "display_data"
    }
   ],
   "source": [
    "plt.imshow(dst2)"
   ]
  },
  {
   "cell_type": "code",
   "execution_count": null,
   "metadata": {
    "collapsed": true
   },
   "outputs": [],
   "source": []
  },
  {
   "cell_type": "code",
   "execution_count": null,
   "metadata": {
    "collapsed": true
   },
   "outputs": [],
   "source": []
  }
 ],
 "metadata": {
  "kernelspec": {
   "display_name": "Python 2",
   "language": "python",
   "name": "python2"
  },
  "language_info": {
   "codemirror_mode": {
    "name": "ipython",
    "version": 2
   },
   "file_extension": ".py",
   "mimetype": "text/x-python",
   "name": "python",
   "nbconvert_exporter": "python",
   "pygments_lexer": "ipython2",
   "version": "2.7.11"
  }
 },
 "nbformat": 4,
 "nbformat_minor": 0
}
